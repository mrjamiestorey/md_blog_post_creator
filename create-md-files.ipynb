{
 "cells": [
  {
   "cell_type": "markdown",
   "metadata": {},
   "source": [
    "# Markdown blog post creator\n",
    "The purpose of this notebook is to create markdown files for my daily blog posts.\n",
    "I would normally make 1 post per day which is 1 file per day.\n",
    "It's tedious to change the dates, so why not just use Python to create all 365 daily posts in 1 go 🙃.\n",
    "\n"
   ]
  },
  {
   "cell_type": "markdown",
   "metadata": {},
   "source": [
    "###### Snippet from https://www.tutorialspoint.com/How-do-I-display-the-date-like-Aug-5th-using-python-s-strftime"
   ]
  },
  {
   "cell_type": "code",
   "execution_count": 38,
   "metadata": {},
   "outputs": [],
   "source": [
    "from datetime import datetime\n",
    "from datetime import timedelta\n",
    "\n",
    "def suffix(day):\n",
    "  suffix = \"\"\n",
    "  if 4 <= day <= 20 or 24 <= day <= 30:\n",
    "    suffix = \"th\"\n",
    "  else:\n",
    "    suffix = [\"st\", \"nd\", \"rd\"][day % 10 - 1]\n",
    "  return suffix\n"
   ]
  },
  {
   "cell_type": "markdown",
   "metadata": {},
   "source": [
    "### One way of defining a date time"
   ]
  },
  {
   "cell_type": "code",
   "execution_count": 39,
   "metadata": {},
   "outputs": [
    {
     "name": "stdout",
     "output_type": "stream",
     "text": [
      "<class 'datetime.datetime'>\n",
      "2023-01-01 21:00:30\n"
     ]
    }
   ],
   "source": [
    "datetime_str = '01/01/23 21:00:30'\n",
    "\n",
    "datetime_object = datetime.strptime(datetime_str, '%m/%d/%y %H:%M:%S')\n",
    "\n",
    "print(type(datetime_object))\n",
    "print(datetime_object)  # printed in default format"
   ]
  },
  {
   "cell_type": "markdown",
   "metadata": {},
   "source": [
    "### A better way to define a date time"
   ]
  },
  {
   "cell_type": "code",
   "execution_count": 40,
   "metadata": {},
   "outputs": [
    {
     "name": "stdout",
     "output_type": "stream",
     "text": [
      "2023-01-01 21:00:30\n",
      "1st of January 2023\n"
     ]
    }
   ],
   "source": [
    "global my_date\n",
    "my_date = datetime(2023, 1, 1, 21, 00, 30)\n",
    "print(my_date)\n",
    "\n",
    "\n",
    "print(my_date.strftime(\"%-d\" + suffix(my_date.day) + \" of %B %Y\"))"
   ]
  },
  {
   "cell_type": "code",
   "execution_count": 41,
   "metadata": {},
   "outputs": [],
   "source": [
    "# A method to return a date with a suffix\n",
    "def dateWithSuffix(a_date: datetime):\n",
    "    return a_date.strftime(\"%-d\" + suffix(a_date.day) + \" of %B %Y\")"
   ]
  },
  {
   "cell_type": "markdown",
   "metadata": {},
   "source": [
    "### Need a date + \"T\" + \"+01:00\"\n",
    "2023-07-05T20:48:07+01:00"
   ]
  },
  {
   "cell_type": "code",
   "execution_count": 42,
   "metadata": {},
   "outputs": [
    {
     "name": "stdout",
     "output_type": "stream",
     "text": [
      "The date is: 2023-01-01 and the time is: 21:00:30\n",
      "2023-01-01T21:00:30+00:00\n",
      "1st of January 2023\n"
     ]
    }
   ],
   "source": [
    "global the_date\n",
    "global the_time\n",
    "global the_date_stamp\n",
    "global the_title_date\n",
    "global the_url\n",
    "global the_description\n",
    "\n",
    "the_date = my_date.date()\n",
    "the_time = my_date.time()\n",
    "the_date_stamp = f'{the_date}T{the_time}+00:00'\n",
    "the_title_date = dateWithSuffix(my_date)\n",
    "the_url = f'blog/daily/{my_date.year}/{the_date}'\n",
    "the_description = f'{the_title_date} - Daily Journal of Jamie Storey'\n",
    "\n",
    "print(f'The date is: {the_date} and the time is: {the_time}')\n",
    "print(the_date_stamp)\n",
    "print(the_title_date)"
   ]
  },
  {
   "cell_type": "code",
   "execution_count": 43,
   "metadata": {},
   "outputs": [
    {
     "name": "stdout",
     "output_type": "stream",
     "text": [
      "url: blog/daily/2023/2023-01-01\n",
      "title: \"1st of January 2023\"\n",
      "date: 2023-01-01T21:00:30+00:00\n",
      "description: 1st of January 2023 - Daily Journal of Jamie Storey\n"
     ]
    }
   ],
   "source": [
    "\n",
    "print(f'url: {the_url}')\n",
    "print(f'title: \"{the_title_date}\"')\n",
    "print(f'date: {the_date_stamp}')\n",
    "print(f'description: {the_description}')"
   ]
  },
  {
   "cell_type": "code",
   "execution_count": 44,
   "metadata": {},
   "outputs": [],
   "source": [
    "def update_dates(date_to_update: datetime):\n",
    "    global the_date\n",
    "    global the_time\n",
    "    global the_date_stamp\n",
    "    global the_title_date\n",
    "    global the_url\n",
    "    global the_description\n",
    "    the_date = date_to_update.date()\n",
    "    the_time = date_to_update.time()\n",
    "    the_date_stamp = f'{the_date}T{the_time}+00:00'\n",
    "    the_title_date = dateWithSuffix(date_to_update)\n",
    "    the_url = f'blog/daily/{the_date.year}/{the_date}'\n",
    "    the_description = f'{the_title_date} - Daily Journal of Jamie Storey'"
   ]
  },
  {
   "cell_type": "code",
   "execution_count": 45,
   "metadata": {},
   "outputs": [],
   "source": [
    "def print_variables():\n",
    "    print(f'url: {the_url}')\n",
    "    print(f'title: \"{the_title_date}\"')\n",
    "    print(f'date: {the_date_stamp}')\n",
    "    print(f'description: {the_description}')"
   ]
  },
  {
   "cell_type": "code",
   "execution_count": 46,
   "metadata": {},
   "outputs": [
    {
     "name": "stdout",
     "output_type": "stream",
     "text": [
      "x is 0\n",
      "url: blog/daily/2023/2023-01-01\n",
      "title: \"1st of January 2023\"\n",
      "date: 2023-01-01T21:00:30+00:00\n",
      "description: 1st of January 2023 - Daily Journal of Jamie Storey\n",
      "===\n",
      "x is 1\n",
      "url: blog/daily/2023/2023-01-02\n",
      "title: \"2nd of January 2023\"\n",
      "date: 2023-01-02T21:00:30+00:00\n",
      "description: 2nd of January 2023 - Daily Journal of Jamie Storey\n",
      "===\n",
      "x is 2\n",
      "url: blog/daily/2023/2023-01-03\n",
      "title: \"3rd of January 2023\"\n",
      "date: 2023-01-03T21:00:30+00:00\n",
      "description: 3rd of January 2023 - Daily Journal of Jamie Storey\n",
      "===\n",
      "x is 3\n",
      "url: blog/daily/2023/2023-01-04\n",
      "title: \"4th of January 2023\"\n",
      "date: 2023-01-04T21:00:30+00:00\n",
      "description: 4th of January 2023 - Daily Journal of Jamie Storey\n",
      "===\n"
     ]
    }
   ],
   "source": [
    "# Loop through days and update the date each day\n",
    "# TODO: create and increment a variable named 'nav_weight'\n",
    "for x in range(0, 4):\n",
    "    global my_date\n",
    "    print(f'x is {x}')\n",
    "    my_date2 = my_date + timedelta(days = x)\n",
    "    update_dates(my_date2)\n",
    "    print_variables()\n",
    "    print(\"===\")\n",
    "    \n",
    "    "
   ]
  }
 ],
 "metadata": {
  "kernelspec": {
   "display_name": "Python 3",
   "language": "python",
   "name": "python3"
  },
  "language_info": {
   "codemirror_mode": {
    "name": "ipython",
    "version": 3
   },
   "file_extension": ".py",
   "mimetype": "text/x-python",
   "name": "python",
   "nbconvert_exporter": "python",
   "pygments_lexer": "ipython3",
   "version": "3.10.6"
  },
  "orig_nbformat": 4
 },
 "nbformat": 4,
 "nbformat_minor": 2
}
